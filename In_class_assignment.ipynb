{
  "nbformat": 4,
  "nbformat_minor": 0,
  "metadata": {
    "colab": {
      "provenance": [],
      "authorship_tag": "ABX9TyOVPzgplmY9roi/knhOJisJ",
      "include_colab_link": true
    },
    "kernelspec": {
      "name": "python3",
      "display_name": "Python 3"
    },
    "language_info": {
      "name": "python"
    }
  },
  "cells": [
    {
      "cell_type": "markdown",
      "metadata": {
        "id": "view-in-github",
        "colab_type": "text"
      },
      "source": [
        "<a href=\"https://colab.research.google.com/github/jgbeltz20/BTE-320/blob/main/In_class_assignment.ipynb\" target=\"_parent\"><img src=\"https://colab.research.google.com/assets/colab-badge.svg\" alt=\"Open In Colab\"/></a>"
      ]
    },
    {
      "cell_type": "code",
      "execution_count": 8,
      "metadata": {
        "colab": {
          "base_uri": "https://localhost:8080/"
        },
        "id": "rD6suUj422vY",
        "outputId": "abf54b3f-220d-4ac9-b37d-c8c0c72c8f01"
      },
      "outputs": [
        {
          "output_type": "stream",
          "name": "stdout",
          "text": [
            "Enter the radius of the cylinder: 5\n",
            "Enter the height of the cylinder: 7\n",
            "area = 377.03999999999996 sq. ft\n"
          ]
        }
      ],
      "source": [
        "R = float(input(\"Enter the radius of the cylinder: \"))\n",
        "h = float(input(\"Enter the height of the cylinder: \"))\n",
        "pi = 3.142\n",
        "\n",
        "area = 2*pi*R**2 + 2*pi*R*h\n",
        "\n",
        "print(\"area =\", area, \"sq. ft\")"
      ]
    }
  ]
}