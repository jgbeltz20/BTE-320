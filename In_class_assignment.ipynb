{
  "nbformat": 4,
  "nbformat_minor": 0,
  "metadata": {
    "colab": {
      "provenance": [],
      "authorship_tag": "ABX9TyOAO1nSXVKlC9UjPZdskIro",
      "include_colab_link": true
    },
    "kernelspec": {
      "name": "python3",
      "display_name": "Python 3"
    },
    "language_info": {
      "name": "python"
    }
  },
  "cells": [
    {
      "cell_type": "markdown",
      "metadata": {
        "id": "view-in-github",
        "colab_type": "text"
      },
      "source": [
        "<a href=\"https://colab.research.google.com/github/jgbeltz20/BTE-320/blob/main/In_class_assignment.ipynb\" target=\"_parent\"><img src=\"https://colab.research.google.com/assets/colab-badge.svg\" alt=\"Open In Colab\"/></a>"
      ]
    },
    {
      "cell_type": "code",
      "execution_count": null,
      "metadata": {
        "colab": {
          "base_uri": "https://localhost:8080/"
        },
        "id": "rD6suUj422vY",
        "outputId": "abf54b3f-220d-4ac9-b37d-c8c0c72c8f01"
      },
      "outputs": [
        {
          "output_type": "stream",
          "name": "stdout",
          "text": [
            "Enter the radius of the cylinder: 5\n",
            "Enter the height of the cylinder: 7\n",
            "area = 377.03999999999996 sq. ft\n"
          ]
        }
      ],
      "source": [
        "R = float(input(\"Enter the radius of the cylinder: \"))\n",
        "h = float(input(\"Enter the height of the cylinder: \"))\n",
        "pi = 3.142\n",
        "\n",
        "area = 2*pi*R**2 + 2*pi*R*h\n",
        "\n",
        "print(\"area =\", area, \"sq. ft\")"
      ]
    },
    {
      "cell_type": "code",
      "source": [
        "n1 = float(input(\"Enter the first number: \"))\n",
        "n2 = float(input(\"Enter the second number: \"))\n",
        "op = input(\"Enter the operator: \")\n",
        "\n",
        "if op == \"+\":\n",
        "    print(n1 + n2)\n",
        "elif op == \"-\":\n",
        "    print(n1 - n2)\n",
        "elif op == \"*\":\n",
        "    print(n1 * n2)\n",
        "elif op == \"**\":\n",
        "    print(n1 ** n2)\n",
        "elif op == \"/\":\n",
        "    print(n1 / n2)\n",
        "elif op == \"//\":\n",
        "    print(n1 // n2)\n",
        "elif op == \"%\":\n",
        "    print(n1 % n2)\n",
        "else:\n",
        "    print(\"Invalid operator\")"
      ],
      "metadata": {
        "colab": {
          "base_uri": "https://localhost:8080/"
        },
        "id": "wSEc1hxK6MRS",
        "outputId": "a800ab1f-9989-46a1-ffc7-28a51618ee46"
      },
      "execution_count": null,
      "outputs": [
        {
          "output_type": "stream",
          "name": "stdout",
          "text": [
            "Enter the first number: 100\n",
            "Enter the second number: 10\n",
            "Enter the operator: //\n",
            "10.0\n"
          ]
        }
      ]
    },
    {
      "cell_type": "code",
      "source": [
        "for numberHours in range (1,9):\n",
        "  fee = 5 + 2.5*numberHours\n",
        "  if fee < 10.0:\n",
        "    fee = 10.0\n",
        "  elif fee > 20.0:\n",
        "    fee = 20.0\n",
        "  print(numberHours, fee)\n"
      ],
      "metadata": {
        "colab": {
          "base_uri": "https://localhost:8080/"
        },
        "id": "GsuYnUgRm5TZ",
        "outputId": "64f6024b-1d7d-46c3-f0c6-6ac5dd7b3ce1"
      },
      "execution_count": null,
      "outputs": [
        {
          "output_type": "stream",
          "name": "stdout",
          "text": [
            "1 10.0\n",
            "2 10.0\n",
            "3 12.5\n",
            "4 15.0\n",
            "5 17.5\n",
            "6 20.0\n",
            "7 20.0\n",
            "8 20.0\n"
          ]
        }
      ]
    },
    {
      "cell_type": "code",
      "source": [
        "print('Ad$\\t','Profit')\n",
        "for admoney in range(0,201,25):\n",
        "  revenue = (20 + 2*round((admoney**.5))) *10 # instead of math.sqrt(adMoney)\n",
        "  costs = 200+admoney\n",
        "  profit = revenue - costs\n",
        "\n",
        "  print(admoney,'\\t', profit)"
      ],
      "metadata": {
        "colab": {
          "base_uri": "https://localhost:8080/"
        },
        "id": "0wuRA3vDq7v-",
        "outputId": "41bfcb9b-c0b5-4cc4-cd2a-f94e51db8557"
      },
      "execution_count": null,
      "outputs": [
        {
          "output_type": "stream",
          "name": "stdout",
          "text": [
            "Ad$\t Profit\n",
            "0 \t 0\n",
            "25 \t 75\n",
            "50 \t 90\n",
            "75 \t 105\n",
            "100 \t 100\n",
            "125 \t 95\n",
            "150 \t 90\n",
            "175 \t 85\n",
            "200 \t 80\n"
          ]
        }
      ]
    },
    {
      "cell_type": "code",
      "source": [
        "import random\n",
        "\n",
        "play = input('Do you want to play a game (yes/no): ')\n",
        "\n",
        "while play == 'yes':\n",
        "  p1 = input('Player 1: rock, paper, or scissors? ')\n",
        "  p2 = random.choice(['rock','paper','scissors'])\n",
        "  if p1 == p2:\n",
        "    print('Tie game')\n",
        "  elif ((p1 == 'Rock'and p2 == 'Scissors')or\n",
        "        (p1 == 'Scissors'and p2 == 'paper')or\n",
        "        (p1 == 'Paper'and p2 == 'Rock')):\n",
        "    print('Player 1 wins')\n",
        "  else:\n",
        "    print('Player 2 wins')\n",
        "  play = input('Do you want to play a game (yes/no): ')\n",
        "print('Thank you for playing')"
      ],
      "metadata": {
        "colab": {
          "base_uri": "https://localhost:8080/"
        },
        "id": "VMW8ZW_UcpTp",
        "outputId": "55e909cf-d82b-4725-833d-4b8b92283257"
      },
      "execution_count": null,
      "outputs": [
        {
          "output_type": "stream",
          "name": "stdout",
          "text": [
            "Do you want to play a game (yes/no): yes\n",
            "Player 1: rock, paper, or scissors? rock\n",
            "Tie game\n",
            "Do you want to play a game (yes/no): no\n",
            "Thank you for playing\n"
          ]
        }
      ]
    },
    {
      "cell_type": "code",
      "source": [
        "List = []\n",
        "\n",
        "num = float(input('Number for list: '))\n",
        "\n",
        "while num != 0:\n",
        "  List.append(num)\n",
        "  num = float(input('Number for list: '))\n",
        "\n",
        "List.sort(reverse=True)\n",
        "List"
      ],
      "metadata": {
        "colab": {
          "base_uri": "https://localhost:8080/"
        },
        "id": "2JuAtyNydIGX",
        "outputId": "79c75b29-4b93-463f-d720-b70c55c060af"
      },
      "execution_count": null,
      "outputs": [
        {
          "name": "stdout",
          "output_type": "stream",
          "text": [
            "Number for list: 1\n",
            "Number for list: 2\n",
            "Number for list: 3\n",
            "Number for list: 4\n",
            "Number for list: 5\n",
            "Number for list: 0\n"
          ]
        },
        {
          "output_type": "execute_result",
          "data": {
            "text/plain": [
              "[5.0, 4.0, 3.0, 2.0, 1.0]"
            ]
          },
          "metadata": {},
          "execution_count": 12
        }
      ]
    },
    {
      "cell_type": "code",
      "source": [
        "months = {}\n",
        "\n",
        "names = [\"Jan\", \"Feb\", \"Mar\", \"Apr\", \"May\", \"Jun\", \"Jul\", \"Aug\", \"Sep\", \"Oct\", \"Nov\", \"Dec\"]\n",
        "numbers = [1, 2, 3, 4, 5, 6, 7, 8, 9, 10, 11, 12]\n",
        "\n",
        "for idx in range(len(names)):\n",
        "  months[numbers[idx]] = names[idx]\n",
        "\n",
        "months"
      ],
      "metadata": {
        "colab": {
          "base_uri": "https://localhost:8080/"
        },
        "id": "xKHgDP_aEyHf",
        "outputId": "06301b69-241c-4840-f8b2-5c37c78794ab"
      },
      "execution_count": null,
      "outputs": [
        {
          "output_type": "execute_result",
          "data": {
            "text/plain": [
              "{1: 'Jan',\n",
              " 2: 'Feb',\n",
              " 3: 'Mar',\n",
              " 4: 'Apr',\n",
              " 5: 'May',\n",
              " 6: 'Jun',\n",
              " 7: 'Jul',\n",
              " 8: 'Aug',\n",
              " 9: 'Sep',\n",
              " 10: 'Oct',\n",
              " 11: 'Nov',\n",
              " 12: 'Dec'}"
            ]
          },
          "metadata": {},
          "execution_count": 4
        }
      ]
    },
    {
      "cell_type": "code",
      "source": [
        "counts = {}\n",
        "\n",
        "while len(counts) < 5:\n",
        "  key = input('Please enter value: ')\n",
        "\n",
        "  if key not in counts:\n",
        "    counts[key] = 1\n",
        "  else:\n",
        "    counts[key] += 1\n",
        "\n",
        "counts"
      ],
      "metadata": {
        "colab": {
          "base_uri": "https://localhost:8080/"
        },
        "id": "6FpBVEd3FMCq",
        "outputId": "554bff14-2b9f-45ff-c6c0-7f605f75a656"
      },
      "execution_count": null,
      "outputs": [
        {
          "name": "stdout",
          "output_type": "stream",
          "text": [
            "Please enter value: a\n",
            "Please enter value: a\n",
            "Please enter value: a\n",
            "Please enter value: a\n",
            "Please enter value: b\n",
            "Please enter value: b\n",
            "Please enter value: b\n",
            "Please enter value: b\n",
            "Please enter value: c\n",
            "Please enter value: d\n",
            "Please enter value: d\n",
            "Please enter value: d\n",
            "Please enter value: d\n",
            "Please enter value: e\n"
          ]
        },
        {
          "output_type": "execute_result",
          "data": {
            "text/plain": [
              "{'a': 4, 'b': 4, 'c': 1, 'd': 4, 'e': 1}"
            ]
          },
          "metadata": {},
          "execution_count": 2
        }
      ]
    },
    {
      "cell_type": "code",
      "source": [
        "def calcFee(hours):\n",
        "  fee = 5 + 2.5*hours\n",
        "  if fee < 10.0:\n",
        "    fee = 10.0\n",
        "  elif fee >= 20.0:\n",
        "    fee = 20.0\n",
        "  print(f'Fee = $ {fee}')\n",
        "\n",
        "print('Program starts...')\n",
        "hours = float(input('Enter the number of hours: '))\n",
        "calcFee(hours)"
      ],
      "metadata": {
        "colab": {
          "base_uri": "https://localhost:8080/"
        },
        "id": "RoW-XhRc0_15",
        "outputId": "c5e8fad7-0f04-4bea-c4c8-b31db92e34d7"
      },
      "execution_count": null,
      "outputs": [
        {
          "output_type": "stream",
          "name": "stdout",
          "text": [
            "Program starts...\n",
            "Enter the number of hours: 4\n",
            "Fee = $15.0\n"
          ]
        }
      ]
    },
    {
      "cell_type": "code",
      "source": [
        "def reverse(s):\n",
        "  if len(s) <= 1:\n",
        "    return s\n",
        "  else:\n",
        "    return s[-1] + reverse(s[1:-1]) + s[0]\n",
        "\n",
        "s = input('Enter a string: ')\n",
        "print(reverse(s))"
      ],
      "metadata": {
        "colab": {
          "base_uri": "https://localhost:8080/"
        },
        "id": "Tc13-D0ZdWvt",
        "outputId": "a39863f6-473a-4070-a730-65e5321b0eb3"
      },
      "execution_count": 2,
      "outputs": [
        {
          "output_type": "stream",
          "name": "stdout",
          "text": [
            "Enter a string: Hello\n",
            "olleH\n"
          ]
        }
      ]
    }
  ]
}