{
  "nbformat": 4,
  "nbformat_minor": 0,
  "metadata": {
    "colab": {
      "provenance": [],
      "authorship_tag": "ABX9TyNLjC7NYaPFzze9bUJXQnD4",
      "include_colab_link": true
    },
    "kernelspec": {
      "name": "python3",
      "display_name": "Python 3"
    },
    "language_info": {
      "name": "python"
    }
  },
  "cells": [
    {
      "cell_type": "markdown",
      "metadata": {
        "id": "view-in-github",
        "colab_type": "text"
      },
      "source": [
        "<a href=\"https://colab.research.google.com/github/jgbeltz20/BTE-320/blob/main/In_class_assignment.ipynb\" target=\"_parent\"><img src=\"https://colab.research.google.com/assets/colab-badge.svg\" alt=\"Open In Colab\"/></a>"
      ]
    },
    {
      "cell_type": "code",
      "execution_count": null,
      "metadata": {
        "colab": {
          "base_uri": "https://localhost:8080/"
        },
        "id": "rD6suUj422vY",
        "outputId": "abf54b3f-220d-4ac9-b37d-c8c0c72c8f01"
      },
      "outputs": [
        {
          "output_type": "stream",
          "name": "stdout",
          "text": [
            "Enter the radius of the cylinder: 5\n",
            "Enter the height of the cylinder: 7\n",
            "area = 377.03999999999996 sq. ft\n"
          ]
        }
      ],
      "source": [
        "R = float(input(\"Enter the radius of the cylinder: \"))\n",
        "h = float(input(\"Enter the height of the cylinder: \"))\n",
        "pi = 3.142\n",
        "\n",
        "area = 2*pi*R**2 + 2*pi*R*h\n",
        "\n",
        "print(\"area =\", area, \"sq. ft\")"
      ]
    },
    {
      "cell_type": "code",
      "source": [
        "n1 = float(input(\"Enter the first number: \"))\n",
        "n2 = float(input(\"Enter the second number: \"))\n",
        "op = input(\"Enter the operator: \")\n",
        "\n",
        "if op == \"+\":\n",
        "    print(n1 + n2)\n",
        "elif op == \"-\":\n",
        "    print(n1 - n2)\n",
        "elif op == \"*\":\n",
        "    print(n1 * n2)\n",
        "elif op == \"**\":\n",
        "    print(n1 ** n2)\n",
        "elif op == \"/\":\n",
        "    print(n1 / n2)\n",
        "elif op == \"//\":\n",
        "    print(n1 // n2)\n",
        "elif op == \"%\":\n",
        "    print(n1 % n2)\n",
        "else:\n",
        "    print(\"Invalid operator\")"
      ],
      "metadata": {
        "colab": {
          "base_uri": "https://localhost:8080/"
        },
        "id": "wSEc1hxK6MRS",
        "outputId": "a800ab1f-9989-46a1-ffc7-28a51618ee46"
      },
      "execution_count": null,
      "outputs": [
        {
          "output_type": "stream",
          "name": "stdout",
          "text": [
            "Enter the first number: 100\n",
            "Enter the second number: 10\n",
            "Enter the operator: //\n",
            "10.0\n"
          ]
        }
      ]
    },
    {
      "cell_type": "code",
      "source": [
        "for numberHours in range (1,9):\n",
        "  fee = 5 + 2.5*numberHours\n",
        "  if fee < 10.0:\n",
        "    fee = 10.0\n",
        "  elif fee > 20.0:\n",
        "    fee = 20.0\n",
        "  print(numberHours, fee)\n"
      ],
      "metadata": {
        "colab": {
          "base_uri": "https://localhost:8080/"
        },
        "id": "GsuYnUgRm5TZ",
        "outputId": "64f6024b-1d7d-46c3-f0c6-6ac5dd7b3ce1"
      },
      "execution_count": 25,
      "outputs": [
        {
          "output_type": "stream",
          "name": "stdout",
          "text": [
            "1 10.0\n",
            "2 10.0\n",
            "3 12.5\n",
            "4 15.0\n",
            "5 17.5\n",
            "6 20.0\n",
            "7 20.0\n",
            "8 20.0\n"
          ]
        }
      ]
    },
    {
      "cell_type": "code",
      "source": [
        "print('Ad$\\t','Profit')\n",
        "for admoney in range(0,201,25):\n",
        "  revenue = (20 + 2*round((admoney**.5))) *10 # instead of math.sqrt(adMoney)\n",
        "  costs = 200+admoney\n",
        "  profit = revenue - costs\n",
        "\n",
        "  print(admoney,'\\t', profit)"
      ],
      "metadata": {
        "colab": {
          "base_uri": "https://localhost:8080/"
        },
        "id": "0wuRA3vDq7v-",
        "outputId": "41bfcb9b-c0b5-4cc4-cd2a-f94e51db8557"
      },
      "execution_count": 47,
      "outputs": [
        {
          "output_type": "stream",
          "name": "stdout",
          "text": [
            "Ad$\t Profit\n",
            "0 \t 0\n",
            "25 \t 75\n",
            "50 \t 90\n",
            "75 \t 105\n",
            "100 \t 100\n",
            "125 \t 95\n",
            "150 \t 90\n",
            "175 \t 85\n",
            "200 \t 80\n"
          ]
        }
      ]
    }
  ]
}